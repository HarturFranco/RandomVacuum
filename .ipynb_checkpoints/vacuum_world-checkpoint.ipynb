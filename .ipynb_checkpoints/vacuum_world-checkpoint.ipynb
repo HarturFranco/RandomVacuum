{
 "cells": [
  {
   "cell_type": "markdown",
   "metadata": {},
   "source": [
    "# THE VACUUM WORLD   \n",
    "\n",
    "In this notebook, we will be discussing **the structure of agents** through an example of the **vacuum agent**. The job of AI is to design an **agent program** that implements the agent function: the mapping from percepts to actions. We assume this program will run on some sort of computing device with physical sensors and actuators: we call this the **architecture**:\n",
    "\n",
    "<h3 align=\"center\">agent = architecture + program</h3>"
   ]
  },
  {
   "cell_type": "markdown",
   "metadata": {},
   "source": [
    "Before moving on, please review [<b>agents.ipynb</b>](https://github.com/aimacode/aima-python/blob/master/agents.ipynb)"
   ]
  },
  {
   "cell_type": "markdown",
   "metadata": {},
   "source": [
    "## CONTENTS\n",
    "\n",
    "* Agent\n",
    "* Random Agent Program\n",
    "* Table-Driven Agent Program\n",
    "* Simple Reflex Agent Program\n",
    "* Model-Based Reflex Agent Program\n",
    "* Goal-Based Agent Program\n",
    "* Utility-Based Agent Program\n",
    "* Learning Agent"
   ]
  },
  {
   "cell_type": "markdown",
   "metadata": {},
   "source": [
    "## AGENT PROGRAMS\n",
    "\n",
    "An agent program takes the current percept as input from the sensors and returns an action to the actuators. There is a difference between an agent program and an agent function: an agent program takes the current percept as input whereas an agent function takes the entire percept history.\n",
    "\n",
    "The agent program takes just the current percept as input because nothing more is available from the environment; if the agent's actions depend on the entire percept sequence, the agent will have to remember the percept.\n",
    "\n",
    "We'll discuss the following agent programs here with the help of the vacuum world example:\n",
    "\n",
    "* Random Agent Program\n",
    "* Table-Driven Agent Program\n",
    "* Simple Reflex Agent Program\n",
    "* Model-Based Reflex Agent Program\n",
    "* Goal-Based Agent Program\n",
    "* Utility-Based Agent Program"
   ]
  },
  {
   "cell_type": "markdown",
   "metadata": {},
   "source": [
    "## Random Agent Program\n",
    "\n",
    "A random agent program, as the name suggests, chooses an action at random, without taking into account the percepts.   \n",
    "Here, we will demonstrate a random vacuum agent for a trivial vacuum environment, that is, the two-state environment."
   ]
  },
  {
   "cell_type": "markdown",
   "metadata": {},
   "source": [
    "### Import's"
   ]
  },
  {
   "cell_type": "code",
   "execution_count": 1,
   "metadata": {},
   "outputs": [],
   "source": [
    "from agents import *\n",
    "from tabulate import tabulate"
   ]
  },
  {
   "cell_type": "markdown",
   "metadata": {},
   "source": [
    "Inicia o ambiente customizado"
   ]
  },
  {
   "cell_type": "code",
   "execution_count": 2,
   "metadata": {},
   "outputs": [
    {
     "name": "stdout",
     "output_type": "stream",
     "text": [
      "State of the Environment: [[{'Right': (0, 1), 'Left': None, 'Top': None, 'Down': (1, 0), 'Dirty': False}, {'Right': (0, 2), 'Left': (0, 0), 'Top': None, 'Down': (1, 1), 'Dirty': False}, {'Right': (0, 3), 'Left': (0, 1), 'Top': None, 'Down': (1, 2), 'Dirty': True}, {'Right': None, 'Left': (0, 2), 'Top': None, 'Down': (1, 3), 'Dirty': True}], [{'Right': (1, 1), 'Left': None, 'Top': (0, 0), 'Down': (2, 0), 'Dirty': True}, {'Right': (1, 2), 'Left': (1, 0), 'Top': (0, 1), 'Down': (2, 1), 'Dirty': False}, {'Right': (1, 3), 'Left': (1, 1), 'Top': (0, 2), 'Down': (2, 2), 'Dirty': False}, {'Right': None, 'Left': (1, 2), 'Top': (0, 3), 'Down': (2, 3), 'Dirty': True}], [{'Right': (2, 1), 'Left': None, 'Top': (1, 0), 'Down': (3, 0), 'Dirty': True}, {'Right': (2, 2), 'Left': (2, 0), 'Top': (1, 1), 'Down': (3, 1), 'Dirty': False}, {'Right': (2, 3), 'Left': (2, 1), 'Top': (1, 2), 'Down': (3, 2), 'Dirty': False}, {'Right': None, 'Left': (2, 2), 'Top': (1, 3), 'Down': (3, 3), 'Dirty': False}], [{'Right': (3, 1), 'Left': None, 'Top': (2, 0), 'Down': None, 'Dirty': False}, {'Right': (3, 2), 'Left': (3, 0), 'Top': (2, 1), 'Down': None, 'Dirty': True}, {'Right': (3, 3), 'Left': (3, 1), 'Top': (2, 2), 'Down': None, 'Dirty': True}, {'Right': None, 'Left': (3, 2), 'Top': (2, 3), 'Down': None, 'Dirty': False}]].\n"
     ]
    }
   ],
   "source": [
    "# Inicializa o ambiente customizado \n",
    "our_vacuum_env = OurVacuumEnvironment((4,4))"
   ]
  },
  {
   "cell_type": "markdown",
   "metadata": {},
   "source": [
    "Cria o agente randomico"
   ]
  },
  {
   "cell_type": "code",
   "execution_count": 3,
   "metadata": {},
   "outputs": [],
   "source": [
    "# Cria o agente randomico\n",
    "random_agent = RandomVacuumAgent()"
   ]
  },
  {
   "cell_type": "markdown",
   "metadata": {},
   "source": [
    "Adiciona o agente randomico no ambiente costumizado"
   ]
  },
  {
   "cell_type": "code",
   "execution_count": 4,
   "metadata": {},
   "outputs": [
    {
     "name": "stdout",
     "output_type": "stream",
     "text": [
      "RandomVacuumAgent is located at (3, 2).\n"
     ]
    }
   ],
   "source": [
    "# Add agent to the environment\n",
    "our_vacuum_env.add_thing(random_agent)"
   ]
  },
  {
   "cell_type": "markdown",
   "metadata": {},
   "source": [
    "Exibe o cenário inicial, antes de qualquer ação do agente"
   ]
  },
  {
   "cell_type": "code",
   "execution_count": null,
   "metadata": {},
   "outputs": [],
   "source": [
    "# Printa o estado inicial do ambiente\n",
    "lista_print = [[\"(Dirty)\" if coluna[\"Dirty\"] else \"(Clean)\" for coluna in linha] for linha in our_vacuum_env.cenario]\n",
    "lista_print[random_agent.location[0]][random_agent.location[1]]+= \"\\n(Agent)\"\n",
    "print(\"Estado inicial do cenário:\\n{}.\".format(tabulate(lista_print, tablefmt=\"grid\")))"
   ]
  },
  {
   "cell_type": "markdown",
   "metadata": {},
   "source": [
    "Fica chamando o passo a passo de operações randomicas do agente"
   ]
  },
  {
   "cell_type": "code",
   "execution_count": 10,
   "metadata": {},
   "outputs": [
    {
     "name": "stdout",
     "output_type": "stream",
     "text": [
      "Left\n",
      "\n",
      "\n",
      "State of the Environment:\n",
      " +---------+---------+---------+---------+\n",
      "| (Clean) | (Clean) | (Dirty) | (Dirty) |\n",
      "+---------+---------+---------+---------+\n",
      "| (Dirty) | (Clean) | (Clean) | (Dirty) |\n",
      "|         | (agent) |         |         |\n",
      "+---------+---------+---------+---------+\n",
      "| (Dirty) | (Clean) | (Clean) | (Clean) |\n",
      "+---------+---------+---------+---------+\n",
      "| (Clean) | (Dirty) | (Clean) | (Clean) |\n",
      "+---------+---------+---------+---------+.\n"
     ]
    }
   ],
   "source": [
    "## Faz com que o agente realiza uma operação\n",
    "our_vacuum_env.step()\n",
    "\n",
    "# Preparativos para o print do estado atual do Ambiente\n",
    "lista_print = [[\"(Dirty)\" if coluna[\"Dirty\"] else \"(Clean)\" for coluna in linha] for linha in our_vacuum_env.cenario]\n",
    "lista_print[random_agent.location[0]][random_agent.location[1]]+= \"\\n(Agent)\"\n",
    "\n",
    "# Printa o estado atual do Ambiente\n",
    "print(\"Ação realizada: {}\".format(random_agent.last_action))\n",
    "print(\"Estado do cenário após a realização da ação:\\n{}.\".format(tabulate(lista_print, tablefmt=\"grid\")))"
   ]
  },
  {
   "cell_type": "code",
   "execution_count": null,
   "metadata": {},
   "outputs": [],
   "source": []
  }
 ],
 "metadata": {
  "kernelspec": {
   "display_name": "Python 3",
   "language": "python",
   "name": "python3"
  },
  "language_info": {
   "codemirror_mode": {
    "name": "ipython",
    "version": 3
   },
   "file_extension": ".py",
   "mimetype": "text/x-python",
   "name": "python",
   "nbconvert_exporter": "python",
   "pygments_lexer": "ipython3",
   "version": "3.9.2"
  }
 },
 "nbformat": 4,
 "nbformat_minor": 2
}
