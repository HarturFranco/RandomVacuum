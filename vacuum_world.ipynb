{
 "cells": [
  {
   "cell_type": "markdown",
   "metadata": {},
   "source": [
    "# THE VACUUM WORLD   \n",
    "\n",
    "In this notebook, we will be discussing **the structure of agents** through an example of the **vacuum agent**. The job of AI is to design an **agent program** that implements the agent function: the mapping from percepts to actions. We assume this program will run on some sort of computing device with physical sensors and actuators: we call this the **architecture**:\n",
    "\n",
    "<h3 align=\"center\">agent = architecture + program</h3>"
   ]
  },
  {
   "cell_type": "markdown",
   "metadata": {},
   "source": [
    "Before moving on, please review [<b>agents.ipynb</b>](https://github.com/aimacode/aima-python/blob/master/agents.ipynb)"
   ]
  },
  {
   "cell_type": "markdown",
   "metadata": {},
   "source": [
    "## CONTENTS\n",
    "\n",
    "* Agent\n",
    "* Random Agent Program\n",
    "* Table-Driven Agent Program\n",
    "* Simple Reflex Agent Program\n",
    "* Model-Based Reflex Agent Program\n",
    "* Goal-Based Agent Program\n",
    "* Utility-Based Agent Program\n",
    "* Learning Agent"
   ]
  },
  {
   "cell_type": "markdown",
   "metadata": {},
   "source": [
    "## AGENT PROGRAMS\n",
    "\n",
    "An agent program takes the current percept as input from the sensors and returns an action to the actuators. There is a difference between an agent program and an agent function: an agent program takes the current percept as input whereas an agent function takes the entire percept history.\n",
    "\n",
    "The agent program takes just the current percept as input because nothing more is available from the environment; if the agent's actions depend on the entire percept sequence, the agent will have to remember the percept.\n",
    "\n",
    "We'll discuss the following agent programs here with the help of the vacuum world example:\n",
    "\n",
    "* Random Agent Program\n",
    "* Table-Driven Agent Program\n",
    "* Simple Reflex Agent Program\n",
    "* Model-Based Reflex Agent Program\n",
    "* Goal-Based Agent Program\n",
    "* Utility-Based Agent Program"
   ]
  },
  {
   "cell_type": "markdown",
   "metadata": {},
   "source": [
    "## Random Agent Program\n",
    "\n",
    "A random agent program, as the name suggests, chooses an action at random, without taking into account the percepts.   \n",
    "Here, we will demonstrate a random vacuum agent for a trivial vacuum environment, that is, the two-state environment."
   ]
  },
  {
   "cell_type": "markdown",
   "metadata": {},
   "source": [
    "Let's begin by importing all the functions from the agents module:"
   ]
  },
  {
   "cell_type": "code",
   "execution_count": 1,
   "metadata": {},
   "outputs": [],
   "source": [
    "from agents import *\n",
    "from tabulate import tabulate\n",
    "# from notebook import psource"
   ]
  },
  {
   "cell_type": "markdown",
   "metadata": {},
   "source": [
    "Let us first see how we define the TrivialVacuumEnvironment. Run the next cell to see how abstract class TrivialVacuumEnvironment is defined in agents module:"
   ]
  },
  {
   "cell_type": "code",
   "execution_count": 2,
   "metadata": {},
   "outputs": [
    {
     "name": "stdout",
     "output_type": "stream",
     "text": [
      "State of the Environment: [[{'Right': (0, 1), 'Left': None, 'Top': None, 'Down': (1, 0), 'Dirty': False}, {'Right': (0, 2), 'Left': (0, 0), 'Top': None, 'Down': (1, 1), 'Dirty': False}, {'Right': (0, 3), 'Left': (0, 1), 'Top': None, 'Down': (1, 2), 'Dirty': True}, {'Right': None, 'Left': (0, 2), 'Top': None, 'Down': (1, 3), 'Dirty': True}], [{'Right': (1, 1), 'Left': None, 'Top': (0, 0), 'Down': (2, 0), 'Dirty': True}, {'Right': (1, 2), 'Left': (1, 0), 'Top': (0, 1), 'Down': (2, 1), 'Dirty': False}, {'Right': (1, 3), 'Left': (1, 1), 'Top': (0, 2), 'Down': (2, 2), 'Dirty': False}, {'Right': None, 'Left': (1, 2), 'Top': (0, 3), 'Down': (2, 3), 'Dirty': True}], [{'Right': (2, 1), 'Left': None, 'Top': (1, 0), 'Down': (3, 0), 'Dirty': True}, {'Right': (2, 2), 'Left': (2, 0), 'Top': (1, 1), 'Down': (3, 1), 'Dirty': False}, {'Right': (2, 3), 'Left': (2, 1), 'Top': (1, 2), 'Down': (3, 2), 'Dirty': False}, {'Right': None, 'Left': (2, 2), 'Top': (1, 3), 'Down': (3, 3), 'Dirty': False}], [{'Right': (3, 1), 'Left': None, 'Top': (2, 0), 'Down': None, 'Dirty': False}, {'Right': (3, 2), 'Left': (3, 0), 'Top': (2, 1), 'Down': None, 'Dirty': True}, {'Right': (3, 3), 'Left': (3, 1), 'Top': (2, 2), 'Down': None, 'Dirty': True}, {'Right': None, 'Left': (3, 2), 'Top': (2, 3), 'Down': None, 'Dirty': False}]].\n"
     ]
    }
   ],
   "source": [
    "# These are the two locations for the two-state environment\n",
    "loc_A, loc_B, loc_C, loc_D = (0, 0), (1, 0), (0, 1), (1, 1)\n",
    "\n",
    "# Initialize the two-state environment\n",
    "our_vacuum_env = OurVacuumEnvironment((4,4))\n",
    "\n",
    "# Check the initial state of the environment\n",
    "print(\"State of the Environment: {}.\".format(our_vacuum_env.cenario))"
   ]
  },
  {
   "cell_type": "markdown",
   "metadata": {},
   "source": [
    "Let's create our agent now. This agent will choose any of the actions from 'Right', 'Left', 'Suck' and 'NoOp' (No Operation) randomly."
   ]
  },
  {
   "cell_type": "code",
   "execution_count": 3,
   "metadata": {},
   "outputs": [],
   "source": [
    "# Create the random agent\n",
    "random_agent = RandomVacuumAgent()"
   ]
  },
  {
   "cell_type": "markdown",
   "metadata": {},
   "source": [
    "We will now add our agent to the environment."
   ]
  },
  {
   "cell_type": "code",
   "execution_count": 4,
   "metadata": {},
   "outputs": [
    {
     "name": "stdout",
     "output_type": "stream",
     "text": [
      "RandomVacuumAgent is located at (3, 2).\n"
     ]
    }
   ],
   "source": [
    "# Add agent to the environment\n",
    "our_vacuum_env.add_thing(random_agent)\n",
    "\n",
    "print(\"RandomVacuumAgent is located at {}.\".format(random_agent.location))"
   ]
  },
  {
   "cell_type": "markdown",
   "metadata": {},
   "source": [
    "Let's run our environment now."
   ]
  },
  {
   "cell_type": "code",
   "execution_count": 10,
   "metadata": {},
   "outputs": [
    {
     "name": "stdout",
     "output_type": "stream",
     "text": [
      "Left\n",
      "\n",
      "\n",
      "State of the Environment:\n",
      " +---------+---------+---------+---------+\n",
      "| (Clean) | (Clean) | (Dirty) | (Dirty) |\n",
      "+---------+---------+---------+---------+\n",
      "| (Dirty) | (Clean) | (Clean) | (Dirty) |\n",
      "|         | (agent) |         |         |\n",
      "+---------+---------+---------+---------+\n",
      "| (Dirty) | (Clean) | (Clean) | (Clean) |\n",
      "+---------+---------+---------+---------+\n",
      "| (Clean) | (Dirty) | (Clean) | (Clean) |\n",
      "+---------+---------+---------+---------+.\n"
     ]
    }
   ],
   "source": [
    "# Running the environment\n",
    "our_vacuum_env.step()\n",
    "print('\\n')\n",
    "\n",
    "# Check the current state of the environment\n",
    "\n",
    "lista_print = [[\"(Dirty)\" if coluna[\"Dirty\"] else \"(Clean)\" for coluna in linha] for linha in our_vacuum_env.cenario]\n",
    "lista_print[random_agent.location[0]][random_agent.location[1]]+= \"\\n(Agent)\"\n",
    "print(\"State of the Environment:\\n {:}.\".format(tabulate(lista_print, tablefmt=\"grid\")))\n"
   ]
  },
  {
   "cell_type": "code",
   "execution_count": null,
   "metadata": {},
   "outputs": [],
   "source": []
  },
  {
   "cell_type": "code",
   "execution_count": null,
   "metadata": {},
   "outputs": [],
   "source": []
  }
 ],
 "metadata": {
  "kernelspec": {
   "display_name": "Python 3 (ipykernel)",
   "language": "python",
   "name": "python3"
  },
  "language_info": {
   "codemirror_mode": {
    "name": "ipython",
    "version": 3
   },
   "file_extension": ".py",
   "mimetype": "text/x-python",
   "name": "python",
   "nbconvert_exporter": "python",
   "pygments_lexer": "ipython3",
   "version": "3.8.8"
  }
 },
 "nbformat": 4,
 "nbformat_minor": 2
}
